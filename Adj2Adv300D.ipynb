{
 "cells": [
  {
   "cell_type": "code",
   "execution_count": 1,
   "metadata": {},
   "outputs": [],
   "source": [
    "from gensim.models.keyedvectors import KeyedVectors"
   ]
  },
  {
   "cell_type": "code",
   "execution_count": 2,
   "metadata": {},
   "outputs": [],
   "source": [
    "glove_filename = 'glove-word2vec.6B.300D.txt'"
   ]
  },
  {
   "cell_type": "code",
   "execution_count": 3,
   "metadata": {},
   "outputs": [],
   "source": [
    "model= KeyedVectors.load_word2vec_format(glove_filename,binary=False)"
   ]
  },
  {
   "cell_type": "markdown",
   "metadata": {},
   "source": [
    "----"
   ]
  },
  {
   "cell_type": "code",
   "execution_count": 4,
   "metadata": {},
   "outputs": [],
   "source": [
    "from difflib import SequenceMatcher"
   ]
  },
  {
   "cell_type": "code",
   "execution_count": 5,
   "metadata": {},
   "outputs": [],
   "source": [
    "def close_adv(input, num=5, model_topn=50):\n",
    "  positive = [input, 'happily']\n",
    "  negative = [       'happy']\n",
    "  all_similar = model.most_similar(positive, negative, topn=model_topn)\n",
    "\n",
    "  def score(candidate):\n",
    "    ratio = SequenceMatcher(None, candidate, input).ratio()\n",
    "    looks_like_adv = 1.0 if candidate.endswith('ly') else 0.0\n",
    "    return ratio + looks_like_adv\n",
    "\n",
    "  close = sorted([(word, score(word)) for word, _ in all_similar], key=lambda x: -x[1])\n",
    "  return close[:num]"
   ]
  },
  {
   "cell_type": "code",
   "execution_count": 8,
   "metadata": {},
   "outputs": [
    {
     "name": "stdout",
     "output_type": "stream",
     "text": [
      "[('willingly', 1.2857142857142856), ('elderly', 1.1666666666666667), ('casually', 1.1538461538461537), ('cheerfully', 1.1333333333333333), ('younger', 0.8333333333333334)]\n"
     ]
    }
   ],
   "source": [
    "print(close_adv('young'))"
   ]
  },
  {
   "cell_type": "code",
   "execution_count": null,
   "metadata": {},
   "outputs": [],
   "source": []
  }
 ],
 "metadata": {
  "kernelspec": {
   "display_name": "Python 3",
   "language": "python",
   "name": "python3"
  },
  "language_info": {
   "codemirror_mode": {
    "name": "ipython",
    "version": 3
   },
   "file_extension": ".py",
   "mimetype": "text/x-python",
   "name": "python",
   "nbconvert_exporter": "python",
   "pygments_lexer": "ipython3",
   "version": "3.7.4+"
  }
 },
 "nbformat": 4,
 "nbformat_minor": 2
}
