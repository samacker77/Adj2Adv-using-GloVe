{
 "cells": [
  {
   "cell_type": "code",
   "execution_count": 1,
   "metadata": {},
   "outputs": [],
   "source": [
    "from gensim.models.keyedvectors import KeyedVectors"
   ]
  },
  {
   "cell_type": "code",
   "execution_count": 2,
   "metadata": {},
   "outputs": [],
   "source": [
    "glove_filename = 'glove-word2vec.6B.200D.txt'"
   ]
  },
  {
   "cell_type": "code",
   "execution_count": 3,
   "metadata": {},
   "outputs": [],
   "source": [
    "model = KeyedVectors.load_word2vec_format(glove_filename,binary=False)"
   ]
  },
  {
   "cell_type": "markdown",
   "metadata": {},
   "source": [
    "---"
   ]
  },
  {
   "cell_type": "code",
   "execution_count": 4,
   "metadata": {},
   "outputs": [],
   "source": [
    "from difflib import SequenceMatcher"
   ]
  },
  {
   "cell_type": "code",
   "execution_count": 5,
   "metadata": {},
   "outputs": [],
   "source": [
    "def close_adv(input, num=5, model_topn=50):\n",
    "  positive = [input, 'happily']\n",
    "  negative = [       'happy']\n",
    "  all_similar = model.most_similar(positive, negative, topn=model_topn)\n",
    "\n",
    "  def score(candidate):\n",
    "    ratio = SequenceMatcher(None, candidate, input).ratio()\n",
    "    looks_like_adv = 1.0 if candidate.endswith('ly') else 0.0\n",
    "    return ratio + looks_like_adv\n",
    "\n",
    "  close = sorted([(word, score(word)) for word, _ in all_similar], key=lambda x: -x[1])\n",
    "  return close[:num]"
   ]
  },
  {
   "cell_type": "code",
   "execution_count": 12,
   "metadata": {},
   "outputs": [
    {
     "name": "stdout",
     "output_type": "stream",
     "text": [
      "[('strongly', 1.8571428571428572), ('stubbornly', 1.5), ('persistently', 1.3333333333333333), ('solidly', 1.3076923076923077), ('sharply', 1.3076923076923077)]\n"
     ]
    }
   ],
   "source": [
    "print(close_adv('strong'))"
   ]
  },
  {
   "cell_type": "code",
   "execution_count": null,
   "metadata": {},
   "outputs": [],
   "source": []
  }
 ],
 "metadata": {
  "kernelspec": {
   "display_name": "Python 3",
   "language": "python",
   "name": "python3"
  },
  "language_info": {
   "codemirror_mode": {
    "name": "ipython",
    "version": 3
   },
   "file_extension": ".py",
   "mimetype": "text/x-python",
   "name": "python",
   "nbconvert_exporter": "python",
   "pygments_lexer": "ipython3",
   "version": "3.7.4+"
  }
 },
 "nbformat": 4,
 "nbformat_minor": 2
}
