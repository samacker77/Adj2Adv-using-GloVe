{
 "cells": [
  {
   "cell_type": "code",
   "execution_count": 2,
   "metadata": {},
   "outputs": [],
   "source": [
    "from gensim.models.keyedvectors import KeyedVectors"
   ]
  },
  {
   "cell_type": "code",
   "execution_count": 3,
   "metadata": {},
   "outputs": [],
   "source": [
    "glove_filename = 'glove-word2vec.6B.100d.txt'"
   ]
  },
  {
   "cell_type": "code",
   "execution_count": 4,
   "metadata": {},
   "outputs": [],
   "source": [
    "model = KeyedVectors.load_word2vec_format(glove_filename,binary=False)"
   ]
  },
  {
   "cell_type": "code",
   "execution_count": 5,
   "metadata": {},
   "outputs": [
    {
     "name": "stdout",
     "output_type": "stream",
     "text": [
      "[('queen', 0.7698541283607483), ('monarch', 0.684337854385376), ('throne', 0.675573468208313), ('daughter', 0.6594556570053101), ('princess', 0.6520534753799438), ('prince', 0.651703417301178), ('elizabeth', 0.6464518308639526), ('mother', 0.6311717629432678), ('emperor', 0.6106470227241516), ('wife', 0.6098655462265015)]\n"
     ]
    }
   ],
   "source": [
    "print(model.most_similar(positive=['woman','king'],negative=['man']))"
   ]
  },
  {
   "cell_type": "markdown",
   "metadata": {},
   "source": [
    "## Adjective to Adverb"
   ]
  },
  {
   "cell_type": "code",
   "execution_count": 6,
   "metadata": {},
   "outputs": [],
   "source": [
    "from difflib import SequenceMatcher"
   ]
  },
  {
   "cell_type": "code",
   "execution_count": 7,
   "metadata": {},
   "outputs": [],
   "source": [
    "def close_adv(input, num=5, model_topn=50):\n",
    "  positive = [input, 'happily']\n",
    "  negative = [       'happy']\n",
    "  all_similar = model.most_similar(positive, negative, topn=model_topn)\n",
    "\n",
    "  def score(candidate):\n",
    "    ratio = SequenceMatcher(None, candidate, input).ratio()\n",
    "    looks_like_adv = 1.0 if candidate.endswith('ly') else 0.0\n",
    "    return ratio + looks_like_adv\n",
    "\n",
    "  close = sorted([(word, score(word)) for word, _ in all_similar], key=lambda x: -x[1])\n",
    "  return close[:num]"
   ]
  },
  {
   "cell_type": "code",
   "execution_count": 8,
   "metadata": {},
   "outputs": [
    {
     "name": "stdout",
     "output_type": "stream",
     "text": [
      "strongly\n"
     ]
    }
   ],
   "source": [
    "print(close_adv('strong')[0][0])"
   ]
  },
  {
   "cell_type": "code",
   "execution_count": 9,
   "metadata": {},
   "outputs": [
    {
     "name": "stdout",
     "output_type": "stream",
     "text": [
      "[('lived', 0.5), ('schoolteacher', 0.25), ('woman', 0.25), ('reared', 0.2222222222222222), ('mother', 0.2222222222222222)]\n"
     ]
    }
   ],
   "source": [
    "print(close_adv('old'))"
   ]
  },
  {
   "cell_type": "code",
   "execution_count": null,
   "metadata": {},
   "outputs": [],
   "source": []
  }
 ],
 "metadata": {
  "kernelspec": {
   "display_name": "Python 3",
   "language": "python",
   "name": "python3"
  },
  "language_info": {
   "codemirror_mode": {
    "name": "ipython",
    "version": 3
   },
   "file_extension": ".py",
   "mimetype": "text/x-python",
   "name": "python",
   "nbconvert_exporter": "python",
   "pygments_lexer": "ipython3",
   "version": "3.7.4+"
  }
 },
 "nbformat": 4,
 "nbformat_minor": 2
}
